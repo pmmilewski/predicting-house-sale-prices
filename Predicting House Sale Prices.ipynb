{
 "cells": [
  {
   "cell_type": "code",
   "execution_count": 19,
   "metadata": {
    "collapsed": true
   },
   "outputs": [],
   "source": [
    "import pandas as pd\n",
    "import matplotlib.pyplot as plt\n",
    "import numpy as np\n",
    "import seaborn as sns\n",
    "%matplotlib inline\n",
    "\n",
    "data = pd.read_csv(\"AmesHousing.txt\", delimiter=\"\\t\")\n",
    "train = data[:1460]\n",
    "test = data[1460:]"
   ]
  },
  {
   "cell_type": "code",
   "execution_count": 20,
   "metadata": {},
   "outputs": [],
   "source": [
    "def transform_features(df):\n",
    "    trans_df = pd.DataFrame(df)\n",
    "    #Dropping columns which should be deleted\n",
    "    trans_df.drop(['PID', 'Order', 'Yr Sold', 'Mo Sold', 'Sale Type', 'Sale Condition'], axis=1, inplace=True)\n",
    "    #Fiding columns with more than 25% missing\n",
    "    mth = 0.25\n",
    "    null_counts = train.isnull().sum()\n",
    "    missing_25 = null_counts > mth*train.shape[0]\n",
    "    missing_cols = null_counts[missing_25].index.tolist()\n",
    "    trans_df.drop(missing_cols, axis=1, inplace=True)\n",
    "    #Dropping nominal columns which seem to have too much categories\n",
    "    tm_nominal = ['MS SubClass', 'Land Contour', 'Lot Config', 'Neighborhood', 'Condition 1', 'Condition 2', 'Exterior 1st', 'Exterior 2nd', 'Electrical', 'Heating', \n",
    "'BsmtFin Type 2', 'BsmtFin SF 2', 'Bsmt Exposure', 'Garage Type', 'BsmtFin Type 1', 'Mas Vnr Type', 'Street', 'House Style']\n",
    "    trans_df.drop(tm_nominal, axis=1, inplace=True)\n",
    "    #Normalizing numerical columns\n",
    "    numerical = pd.DataFrame(trans_df.select_dtypes(include=['int64', 'float64']))\n",
    "    numerical.drop(['Year Built', 'Year Remod/Add', 'Garage Yr Blt', 'SalePrice'],axis=1, inplace=True)\n",
    "    numerical_cols = numerical.columns\n",
    "    trans_df.fillna(trans_df[numerical_cols].mean(), inplace=True)\n",
    "    trans_df[numerical_cols] = trans_df[numerical_cols]/trans_df[numerical_cols].max()\n",
    "    #Year manipulation\n",
    "    trans_df['Building Age'] = 2010 - trans_df['Year Built']\n",
    "    trans_df['Garage Age'] = 2010 - trans_df['Garage Yr Blt']\n",
    "    trans_df['years_until_remod'] = trans_df['Year Remod/Add'] - trans_df['Year Built']\n",
    "    trans_df['years_from_remod'] = 2010 - trans_df['Year Remod/Add']\n",
    "    trans_df.drop(['Year Built', 'Garage Yr Blt', 'Year Remod/Add'], axis=1, inplace=True)\n",
    "    trans_df['Garage Age'].fillna(trans_df['Garage Age'].mean(), inplace=True)\n",
    "    #Mapping some ordinal columns\n",
    "    cols_to_map = ['Exter Qual',\n",
    "    'Exter Cond',\n",
    "    'Bsmt Qual',\n",
    "    'Bsmt Cond',\n",
    "    'Heating QC',\n",
    "    'Kitchen Qual',\n",
    "    'Garage Qual',\n",
    "    'Garage Cond']\n",
    "    maps = {'Ex': 1.0, 'Gd': 0.75, 'TA': 0.5, 'Fa': 0.3, 'NA': 0.0}\n",
    "    for col in cols_to_map:\n",
    "        trans_df[col] = trans_df[col].map(maps)\n",
    "        trans_df[col].fillna(0.0, inplace=True)\n",
    "    maps = {'Fin': 1.0, 'RFn': 0.5, 'Unf': 0.25, 'NA': 0.0}\n",
    "    trans_df['Garage Finish'] = trans_df['Garage Finish'].map(maps)\n",
    "    trans_df['Garage Finish'].fillna(0.0, inplace=True)\n",
    "    maps = {'Typ': 1.0, 'Min1': 0.8, 'Min2': 0.6, 'Mod': 0.5, 'Maj1': 0.35, 'Maj2':0.2, 'Sev': 0.1, 'Sal': 0.0}\n",
    "    trans_df['Functional'] = trans_df['Functional'].map(maps)\n",
    "    maps = {'AllPub':1.0, 'NoSewr':0.8, 'NoSeWa':0.5, 'ELO':0.25}\n",
    "    trans_df['Utilities'] = trans_df['Utilities'].map(maps)\n",
    "    trans_df['Central Air'] = trans_df['Central Air'].map({'N':0.0, 'Y':1.0})\n",
    "    #Temp (dropping nominal columns which seems to be not tat important)\n",
    "    trans_df.drop(trans_df.select_dtypes(exclude=['float64', 'int64']).columns, axis=1, inplace=True)\n",
    "    return trans_df"
   ]
  },
  {
   "cell_type": "code",
   "execution_count": 21,
   "metadata": {},
   "outputs": [],
   "source": [
    "def select_features(df):\n",
    "    corrs = df.corr()\n",
    "    abs_corrs = np.absolute(corrs['SalePrice']).sort_values(ascending=False).drop(['SalePrice','Full Bath', 'Garage Area'])\n",
    "    treshold = 0.5\n",
    "    features = abs_corrs[abs_corrs>treshold].index\n",
    "    return df[features]"
   ]
  },
  {
   "cell_type": "code",
   "execution_count": 22,
   "metadata": {},
   "outputs": [],
   "source": [
    "from sklearn.model_selection import KFold, cross_val_score\n",
    "from  sklearn.linear_model import LinearRegression\n",
    "\n",
    "def train_and_test(cv_type):\n",
    "    if cv_type == 'kfold':\n",
    "        k = 10\n",
    "        df = transform_features(data)\n",
    "        target = 'SalePrice'\n",
    "        features = select_features(df).columns\n",
    "        rs = np.random.seed(1)\n",
    "        kf = KFold(n_splits=k, shuffle=True, random_state=rs)\n",
    "        lr = LinearRegression()\n",
    "        lr.fit(df[features], df[target])\n",
    "        scores = cross_val_score(lr, df[features], df[target], cv=kf, scoring='neg_mean_squared_error')\n",
    "        scores = np.sqrt(np.absolute(scores))\n",
    "        avg_score = scores.mean()\n",
    "        return scores, avg_score\n",
    "    elif cv_type=='simple':\n",
    "        rmses = []\n",
    "        train_df = transform_features(train)\n",
    "        test_df = transform_features(test)\n",
    "        target = 'SalePrice'\n",
    "        features = select_features(train_df).columns\n",
    "        lr = LinearRegression()\n",
    "        \n",
    "        lr.fit(train_df[features], train_df[target])\n",
    "        predictions = lr.predict(test_df[features])\n",
    "        mse = np.sum((predictions-test_df['SalePrice'])**2)\n",
    "        mse = mse / len(test_df)\n",
    "        rmses.append(mse**(1/2))\n",
    "        \n",
    "        lr.fit(test_df[features], test_df[target])\n",
    "        predictions = lr.predict(train_df[features])\n",
    "        mse = np.sum((predictions-train_df['SalePrice'])**2)\n",
    "        mse = mse / len(train_df)\n",
    "        rmses.append(mse**(1/2))\n",
    "        \n",
    "        return rmses\n",
    "    else:\n",
    "        return \"Wrong CV type!\""
   ]
  },
  {
   "cell_type": "code",
   "execution_count": 23,
   "metadata": {
    "scrolled": false
   },
   "outputs": [
    {
     "data": {
      "text/plain": [
       "[64682.52121124532, 68990.66182710539]"
      ]
     },
     "execution_count": 23,
     "metadata": {},
     "output_type": "execute_result"
    }
   ],
   "source": [
    "\n",
    "train_and_test('simple')"
   ]
  },
  {
   "cell_type": "code",
   "execution_count": 24,
   "metadata": {},
   "outputs": [
    {
     "data": {
      "text/plain": [
       "(array([ 29584.40481516,  29892.42984898,  31677.66845456,  41216.56158272,\n",
       "         44426.55895744,  29087.62388888,  26633.60588588,  32453.47835665,\n",
       "         43243.32282185,  32821.34673806]), 34103.700135019011)"
      ]
     },
     "execution_count": 24,
     "metadata": {},
     "output_type": "execute_result"
    }
   ],
   "source": [
    "train_and_test('kfold')"
   ]
  },
  {
   "cell_type": "code",
   "execution_count": null,
   "metadata": {
    "collapsed": true
   },
   "outputs": [],
   "source": []
  }
 ],
 "metadata": {
  "anaconda-cloud": {},
  "kernelspec": {
   "display_name": "Python 3",
   "language": "python",
   "name": "python3"
  },
  "language_info": {
   "codemirror_mode": {
    "name": "ipython",
    "version": 3
   },
   "file_extension": ".py",
   "mimetype": "text/x-python",
   "name": "python",
   "nbconvert_exporter": "python",
   "pygments_lexer": "ipython3",
   "version": "3.6.1"
  }
 },
 "nbformat": 4,
 "nbformat_minor": 2
}
